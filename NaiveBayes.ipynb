{
  "nbformat": 4,
  "nbformat_minor": 0,
  "metadata": {
    "colab": {
      "name": "NaiveBayes.ipynb",
      "version": "0.3.2",
      "provenance": [],
      "include_colab_link": true
    },
    "kernelspec": {
      "name": "python3",
      "display_name": "Python 3"
    }
  },
  "cells": [
    {
      "cell_type": "markdown",
      "metadata": {
        "id": "view-in-github",
        "colab_type": "text"
      },
      "source": [
        "<a href=\"https://colab.research.google.com/github/HiInvoker/machineLearning/blob/master/NaiveBayes.ipynb\" target=\"_parent\"><img src=\"https://colab.research.google.com/assets/colab-badge.svg\" alt=\"Open In Colab\"/></a>"
      ]
    },
    {
      "metadata": {
        "id": "u6PFX0KVBnpE",
        "colab_type": "code",
        "colab": {}
      },
      "cell_type": "code",
      "source": [
        "import numpy as np\n",
        "import pandas as pd\n",
        "import matplotlib.pyplot as plt\n",
        "%matplotlib inline\n",
        "\n",
        "from sklearn.datasets import load_iris\n",
        "from sklearn.model_selection import train_test_split\n",
        "\n",
        "from collections import Counter\n",
        "import math"
      ],
      "execution_count": 0,
      "outputs": []
    },
    {
      "metadata": {
        "id": "9wsbLdkOCCeB",
        "colab_type": "code",
        "colab": {}
      },
      "cell_type": "code",
      "source": [
        "def createData():\n",
        "  iris = load_iris()\n",
        "  df = pd.DataFrame(iris.data, columns = iris.feature_names)\n",
        "  df['label'] = iris.target\n",
        "  df.columns = ['sepal length', 'sepal width', 'petal length', 'petal width', 'label']\n",
        "  data = np.array(df.iloc[:100,])\n",
        "  return data[:, :-1], data[:, -1]"
      ],
      "execution_count": 0,
      "outputs": []
    },
    {
      "metadata": {
        "id": "6E8XCAa3Cgbm",
        "colab_type": "code",
        "colab": {}
      },
      "cell_type": "code",
      "source": [
        "X, y = createData()\n",
        "X_train, X_test, y_train, y_test = train_test_split(X, y, test_size = 0.3)"
      ],
      "execution_count": 0,
      "outputs": []
    },
    {
      "metadata": {
        "id": "5kHNkBnhDrgD",
        "colab_type": "code",
        "colab": {
          "base_uri": "https://localhost:8080/",
          "height": 35
        },
        "outputId": "ba832917-0f65-4bc4-a94f-37012088ce51"
      },
      "cell_type": "code",
      "source": [
        "X_test[0], y_test[0]"
      ],
      "execution_count": 8,
      "outputs": [
        {
          "output_type": "execute_result",
          "data": {
            "text/plain": [
              "(array([6.6, 2.9, 4.6, 1.3]), 1.0)"
            ]
          },
          "metadata": {
            "tags": []
          },
          "execution_count": 8
        }
      ]
    },
    {
      "metadata": {
        "id": "d232eHmBEXbu",
        "colab_type": "code",
        "colab": {}
      },
      "cell_type": "code",
      "source": [
        "class NaiveBayes:\n",
        "    def __init__(self):\n",
        "        self.model = None\n",
        "\n",
        "    # 数学期望\n",
        "    @staticmethod\n",
        "    def mean(X):\n",
        "        return sum(X) / float(len(X))\n",
        "\n",
        "    # 标准差（方差）\n",
        "    def stdev(self, X):\n",
        "        avg = self.mean(X)\n",
        "        return math.sqrt(sum([pow(x-avg, 2) for x in X]) / float(len(X)))\n",
        "\n",
        "    # 概率密度函数\n",
        "    def gaussian_probability(self, x, mean, stdev):\n",
        "        exponent = math.exp(-(math.pow(x-mean,2)/(2*math.pow(stdev,2))))\n",
        "        return (1 / (math.sqrt(2*math.pi) * stdev)) * exponent\n",
        "\n",
        "    # 处理X_train\n",
        "    def summarize(self, train_data):\n",
        "        summaries = [(self.mean(i), self.stdev(i)) for i in zip(*train_data)]\n",
        "        return summaries\n",
        "\n",
        "    # 分类别求出数学期望和标准差\n",
        "    def fit(self, X, y):\n",
        "        labels = list(set(y))\n",
        "        data = {label:[] for label in labels}\n",
        "        for f, label in zip(X, y):\n",
        "            data[label].append(f)\n",
        "        self.model = {label: self.summarize(value) for label, value in data.items()}\n",
        "        return 'gaussianNB train done!'\n",
        "\n",
        "    # 计算概率\n",
        "    def calculate_probabilities(self, input_data):\n",
        "        # summaries:{0.0: [(5.0, 0.37),(3.42, 0.40)], 1.0: [(5.8, 0.449),(2.7, 0.27)]}\n",
        "        # input_data:[1.1, 2.2]\n",
        "        probabilities = {}\n",
        "        for label, value in self.model.items():\n",
        "            probabilities[label] = 1\n",
        "            for i in range(len(value)):\n",
        "                mean, stdev = value[i]\n",
        "                probabilities[label] *= self.gaussian_probability(input_data[i], mean, stdev)\n",
        "        return probabilities\n",
        "\n",
        "    # 类别\n",
        "    def predict(self, X_test):\n",
        "        # {0.0: 2.9680340789325763e-27, 1.0: 3.5749783019849535e-26}\n",
        "        label = sorted(self.calculate_probabilities(X_test).items(), key=lambda x: x[-1])[-1][0]\n",
        "        return label\n",
        "\n",
        "    def score(self, X_test, y_test):\n",
        "        right = 0\n",
        "        for X, y in zip(X_test, y_test):\n",
        "            label = self.predict(X)\n",
        "            if label == y:\n",
        "                right += 1\n",
        "\n",
        "        return right / float(len(X_test))\n",
        "    "
      ],
      "execution_count": 0,
      "outputs": []
    },
    {
      "metadata": {
        "id": "Y7dRwBjIG9RZ",
        "colab_type": "code",
        "colab": {
          "base_uri": "https://localhost:8080/",
          "height": 35
        },
        "outputId": "5f4d89f7-cb98-44ce-acce-9c385e3236ef"
      },
      "cell_type": "code",
      "source": [
        "model = NaiveBayes()\n",
        "model.fit(X_train, y_train)"
      ],
      "execution_count": 13,
      "outputs": [
        {
          "output_type": "execute_result",
          "data": {
            "text/plain": [
              "'gaussianNB train done!'"
            ]
          },
          "metadata": {
            "tags": []
          },
          "execution_count": 13
        }
      ]
    },
    {
      "metadata": {
        "id": "UZdgl_CJN6sP",
        "colab_type": "code",
        "colab": {
          "base_uri": "https://localhost:8080/",
          "height": 35
        },
        "outputId": "1551342b-952d-41bd-dd9f-88112c9e898f"
      },
      "cell_type": "code",
      "source": [
        "print(model.predict([4.4,  3.2,  1.3,  0.2]))"
      ],
      "execution_count": 14,
      "outputs": [
        {
          "output_type": "stream",
          "text": [
            "0.0\n"
          ],
          "name": "stdout"
        }
      ]
    },
    {
      "metadata": {
        "id": "agXEIshBN_g_",
        "colab_type": "code",
        "colab": {
          "base_uri": "https://localhost:8080/",
          "height": 35
        },
        "outputId": "c8e95ade-d961-4aa1-c261-f3b60ca7651b"
      },
      "cell_type": "code",
      "source": [
        "model.score(X_test, y_test)"
      ],
      "execution_count": 15,
      "outputs": [
        {
          "output_type": "execute_result",
          "data": {
            "text/plain": [
              "1.0"
            ]
          },
          "metadata": {
            "tags": []
          },
          "execution_count": 15
        }
      ]
    },
    {
      "metadata": {
        "id": "-NF5C1pAOCNB",
        "colab_type": "code",
        "colab": {
          "base_uri": "https://localhost:8080/",
          "height": 35
        },
        "outputId": "229a0541-0cfb-46a6-dc4e-8dbf1a6fedff"
      },
      "cell_type": "code",
      "source": [
        "\n",
        "from sklearn.naive_bayes import GaussianNB\n",
        "\n",
        "\n",
        "clf = GaussianNB()\n",
        "clf.fit(X_train, y_train)\n",
        "\n",
        "clf.score(X_test, y_test)"
      ],
      "execution_count": 16,
      "outputs": [
        {
          "output_type": "execute_result",
          "data": {
            "text/plain": [
              "1.0"
            ]
          },
          "metadata": {
            "tags": []
          },
          "execution_count": 16
        }
      ]
    },
    {
      "metadata": {
        "id": "GjA8ZkFoQGu_",
        "colab_type": "code",
        "colab": {
          "base_uri": "https://localhost:8080/",
          "height": 35
        },
        "outputId": "8416ba66-e7e7-4645-8e32-6a65450c3619"
      },
      "cell_type": "code",
      "source": [
        "clf.predict([[4.4,  3.2,  1.3,  0.2]])"
      ],
      "execution_count": 17,
      "outputs": [
        {
          "output_type": "execute_result",
          "data": {
            "text/plain": [
              "array([0.])"
            ]
          },
          "metadata": {
            "tags": []
          },
          "execution_count": 17
        }
      ]
    },
    {
      "metadata": {
        "id": "RRz4vyLFQIxs",
        "colab_type": "code",
        "colab": {}
      },
      "cell_type": "code",
      "source": [
        ""
      ],
      "execution_count": 0,
      "outputs": []
    }
  ]
}