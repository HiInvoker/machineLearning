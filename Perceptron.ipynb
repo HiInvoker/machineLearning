{
  "nbformat": 4,
  "nbformat_minor": 0,
  "metadata": {
    "colab": {
      "name": "Perceptron.ipynb",
      "version": "0.3.2",
      "provenance": [],
      "include_colab_link": true
    },
    "kernelspec": {
      "name": "python3",
      "display_name": "Python 3"
    }
  },
  "cells": [
    {
      "cell_type": "markdown",
      "metadata": {
        "id": "view-in-github",
        "colab_type": "text"
      },
      "source": [
        "<a href=\"https://colab.research.google.com/github/HiInvoker/machineLearning/blob/master/Perceptron.ipynb\" target=\"_parent\"><img src=\"https://colab.research.google.com/assets/colab-badge.svg\" alt=\"Open In Colab\"/></a>"
      ]
    },
    {
      "metadata": {
        "id": "A9bOG95i02ry",
        "colab_type": "code",
        "colab": {}
      },
      "cell_type": "code",
      "source": [
        "import pandas as pd\n",
        "import numpy as np\n",
        "from sklearn.datasets import load_iris\n",
        "import matplotlib.pyplot as plt\n",
        "%matplotlib inline"
      ],
      "execution_count": 0,
      "outputs": []
    },
    {
      "metadata": {
        "id": "Jric1Dcv0-H0",
        "colab_type": "code",
        "colab": {}
      },
      "cell_type": "code",
      "source": [
        "iris = load_iris()\n",
        "df = pd.DataFrame(iris.data, columns = iris.feature_names)\n",
        "df['label'] = iris.target"
      ],
      "execution_count": 0,
      "outputs": []
    },
    {
      "metadata": {
        "id": "yXQVKkUs1AGx",
        "colab_type": "code",
        "colab": {
          "base_uri": "https://localhost:8080/",
          "height": 89
        },
        "outputId": "4fde3884-7c0e-45a6-cd75-f47e5a7275ff"
      },
      "cell_type": "code",
      "source": [
        "df.columns = ['sepal length', 'sepal width', 'petal length', 'petal width', 'label']\n",
        "df.label.value_counts()"
      ],
      "execution_count": 3,
      "outputs": [
        {
          "output_type": "execute_result",
          "data": {
            "text/plain": [
              "2    50\n",
              "1    50\n",
              "0    50\n",
              "Name: label, dtype: int64"
            ]
          },
          "metadata": {
            "tags": []
          },
          "execution_count": 3
        }
      ]
    },
    {
      "metadata": {
        "id": "SuNi0p3-1Bl_",
        "colab_type": "code",
        "colab": {
          "base_uri": "https://localhost:8080/",
          "height": 280
        },
        "outputId": "46c03867-e607-4c6c-b50d-75a41fd8e445"
      },
      "cell_type": "code",
      "source": [
        "plt.scatter(df[:50]['sepal length'], df[:50]['sepal width'], label = '0')\n",
        "plt.scatter(df[50:100]['sepal length'], df[50:100]['sepal width'], label = '1')\n",
        "plt.xlabel('sepal length')\n",
        "plt.ylabel('sepal width')\n",
        "plt.legend()\n",
        "plt.show()"
      ],
      "execution_count": 4,
      "outputs": [
        {
          "output_type": "display_data",
          "data": {
            "image/png": "[encoded data removed]",
            "text/plain": [
              "<matplotlib.figure.Figure at 0x7f7f637cb438>"
            ]
          },
          "metadata": {
            "tags": []
          }
        }
      ]
    },
    {
      "metadata": {
        "id": "Iy7WrnEG1Dgw",
        "colab_type": "text"
      },
      "cell_type": "markdown",
      "source": [
        ""
      ]
    },
    {
      "metadata": {
        "id": "6BXs7XnD1IV_",
        "colab_type": "code",
        "colab": {}
      },
      "cell_type": "code",
      "source": [
        "def getData(df):\n",
        "  data = np.array(df.iloc[:100, [0, 1, -1]])\n",
        "  X, y = data[:, :-1], data[:, -1]\n",
        "  y = np.array([1 if i == 1 else -1 for i in y])\n",
        "  return X, y"
      ],
      "execution_count": 0,
      "outputs": []
    },
    {
      "metadata": {
        "id": "pLhoQQG81IvG",
        "colab_type": "code",
        "colab": {}
      },
      "cell_type": "code",
      "source": [
        "X, y = getData(df)\n",
        "data = np.array(df.iloc[:100, [0, 1, -1]])"
      ],
      "execution_count": 0,
      "outputs": []
    },
    {
      "metadata": {
        "id": "YYOWGXH_1KiA",
        "colab_type": "code",
        "colab": {}
      },
      "cell_type": "code",
      "source": [
        "class Perceptron:\n",
        "    def __init__(self):\n",
        "        self.w = np.ones(len(data[0])-1, dtype=np.float64)\n",
        "        self.b = 0\n",
        "        self.l_rate = 0.1\n",
        "        # self.data = data\n",
        "    \n",
        "    \n",
        "    def sign(self, x, w, b):\n",
        "        y = np.dot(x, w) + b\n",
        "        return y\n",
        "    \n",
        "    \n",
        "    def fit(self, X_train, y_train):\n",
        "        is_wrong = False\n",
        "        while not is_wrong:\n",
        "            wrong_count = 0\n",
        "            for d in range(len(X_train)):\n",
        "                X = X_train[d]\n",
        "                y = y_train[d]\n",
        "                if y * self.sign(X, self.w, self.b) <= 0:\n",
        "                    self.w = self.w + self.l_rate*np.dot(y, X)\n",
        "                    self.b = self.b + self.l_rate*y\n",
        "                    wrong_count += 1\n",
        "            if wrong_count == 0:\n",
        "                is_wrong = True\n",
        "        return 'Perceptron Model!'        \n",
        "    def score(self):\n",
        "        pass"
      ],
      "execution_count": 0,
      "outputs": []
    },
    {
      "metadata": {
        "id": "CQHE9Dze1VH3",
        "colab_type": "code",
        "colab": {
          "base_uri": "https://localhost:8080/",
          "height": 35
        },
        "outputId": "3d0d0037-98ad-4804-aeac-cd1abf6a0a29"
      },
      "cell_type": "code",
      "source": [
        "perceptron = Perceptron()\n",
        "perceptron.fit(X, y)"
      ],
      "execution_count": 11,
      "outputs": [
        {
          "output_type": "execute_result",
          "data": {
            "text/plain": [
              "'Perceptron Model!'"
            ]
          },
          "metadata": {
            "tags": []
          },
          "execution_count": 11
        }
      ]
    },
    {
      "metadata": {
        "id": "cahUd2lH1Xtg",
        "colab_type": "code",
        "colab": {
          "base_uri": "https://localhost:8080/",
          "height": 281
        },
        "outputId": "79eb8b6a-ee88-4c63-dcc9-47baa43a8f4d"
      },
      "cell_type": "code",
      "source": [
        "x_points = np.linspace(4, 7,10)   #产生等差数列（10个点）\n",
        "y_ = -(perceptron.w[0]*x_points + perceptron.b)/perceptron.w[1]\n",
        "plt.plot(x_points, y_)\n",
        "\n",
        "plt.plot(data[:50, 0], data[:50, 1], 'bo', color='blue', label='0')\n",
        "plt.plot(data[50:100, 0], data[50:100, 1], 'bo', color='orange', label='1')\n",
        "plt.xlabel('sepal length')\n",
        "plt.ylabel('sepal width')\n",
        "plt.legend()\n",
        "plt.show()\n"
      ],
      "execution_count": 12,
      "outputs": [
        {
          "output_type": "display_data",
          "data": {
            "image/png": "[encoded data removed]",
            "text/plain": [
              "<matplotlib.figure.Figure at 0x7f7f60e9d0f0>"
            ]
          },
          "metadata": {
            "tags": []
          }
        }
      ]
    },
    {
      "metadata": {
        "id": "wcs3DgZI1qCT",
        "colab_type": "code",
        "colab": {}
      },
      "cell_type": "code",
      "source": [
        "#sklearn 的感知机模型\n",
        "\n",
        "from sklearn.linear_model import Perceptron"
      ],
      "execution_count": 0,
      "outputs": []
    },
    {
      "metadata": {
        "id": "AhYxi2RQ1wDB",
        "colab_type": "code",
        "colab": {
          "base_uri": "https://localhost:8080/",
          "height": 109
        },
        "outputId": "0373967c-20d5-40a8-ddd7-1ba8c3e3f033"
      },
      "cell_type": "code",
      "source": [
        "clf = Perceptron(fit_intercept=False, max_iter=1000, shuffle=False)\n",
        "clf.fit(X, y)\n",
        "\n",
        "# Weights assigned to the features.\n",
        "print(clf.coef_)\n",
        "\n",
        "# 截距 Constants in decision function.\n",
        "print(clf.intercept_)"
      ],
      "execution_count": 15,
      "outputs": [
        {
          "output_type": "stream",
          "text": [
            "[[  74.6 -127.2]]\n",
            "[0.]\n"
          ],
          "name": "stdout"
        },
        {
          "output_type": "stream",
          "text": [
            "/usr/local/lib/python3.6/dist-packages/sklearn/linear_model/stochastic_gradient.py:183: FutureWarning: max_iter and tol parameters have been added in Perceptron in 0.19. If max_iter is set but tol is left unset, the default value for tol in 0.19 and 0.20 will be None (which is equivalent to -infinity, so it has no effect) but will change in 0.21 to 1e-3. Specify tol to silence this warning.\n",
            "  FutureWarning)\n"
          ],
          "name": "stderr"
        }
      ]
    },
    {
      "metadata": {
        "id": "es9O2d692ECQ",
        "colab_type": "code",
        "colab": {
          "base_uri": "https://localhost:8080/",
          "height": 497
        },
        "outputId": "7d3ea559-0ea2-4076-a284-b02a9ef7ff63"
      },
      "cell_type": "code",
      "source": [
        "x_ponits = np.arange(4, 8)\n",
        "y_ = -(clf.coef_[0][0]*x_ponits + clf.intercept_)/clf.coef_[0][1]\n",
        "\n",
        "plt.figure(figsize = (10, 8))\n",
        "plt.plot(x_ponits, y_)\n",
        "\n",
        "plt.plot(data[:50, 0], data[:50, 1], 'bo', color='blue', label='0')\n",
        "plt.plot(data[50:100, 0], data[50:100, 1], 'bo', color='orange', label='1')\n",
        "plt.xlabel('sepal length')\n",
        "plt.ylabel('sepal width')\n",
        "plt.legend()\n",
        "plt.show()"
      ],
      "execution_count": 19,
      "outputs": [
        {
          "output_type": "display_data",
          "data": {
            "image/png": "[encoded data removed]",
            "text/plain": [
              "<matplotlib.figure.Figure at 0x7f7f5e8a77f0>"
            ]
          },
          "metadata": {
            "tags": []
          }
        }
      ]
    },
    {
      "metadata": {
        "id": "DRmDaDzg2KwX",
        "colab_type": "code",
        "colab": {}
      },
      "cell_type": "code",
      "source": [
        ""
      ],
      "execution_count": 0,
      "outputs": []
    },
    {
      "metadata": {
        "id": "EEIlNbPK2bla",
        "colab_type": "code",
        "colab": {}
      },
      "cell_type": "code",
      "source": [
        ""
      ],
      "execution_count": 0,
      "outputs": []
    }
  ]
}